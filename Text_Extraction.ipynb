{
  "nbformat": 4,
  "nbformat_minor": 0,
  "metadata": {
    "colab": {
      "provenance": [],
      "include_colab_link": true
    },
    "kernelspec": {
      "name": "python3",
      "display_name": "Python 3"
    },
    "language_info": {
      "name": "python"
    }
  },
  "cells": [
    {
      "cell_type": "markdown",
      "metadata": {
        "id": "view-in-github",
        "colab_type": "text"
      },
      "source": [
        "<a href=\"https://colab.research.google.com/github/VivekGupta773/Text-Extraction/blob/main/Text_Extraction.ipynb\" target=\"_parent\"><img src=\"https://colab.research.google.com/assets/colab-badge.svg\" alt=\"Open In Colab\"/></a>"
      ]
    },
    {
      "cell_type": "markdown",
      "source": [
        "#Text Extraction from any file type"
      ],
      "metadata": {
        "id": "cavSDr1xUs-9"
      }
    },
    {
      "cell_type": "markdown",
      "source": [
        "#1\n",
        "##Install various libraries\n",
        "We may use few of them but these are for your future refrances."
      ],
      "metadata": {
        "id": "t8zOuQ8_IzH7"
      }
    },
    {
      "cell_type": "code",
      "execution_count": 8,
      "metadata": {
        "colab": {
          "base_uri": "https://localhost:8080/"
        },
        "id": "5S8DQwSfwV06",
        "outputId": "f5ee1059-e830-4de9-b6ea-d817698465f2"
      },
      "outputs": [
        {
          "output_type": "stream",
          "name": "stdout",
          "text": [
            "Requirement already satisfied: PyPDF2 in /usr/local/lib/python3.10/dist-packages (3.0.1)\n",
            "Requirement already satisfied: textract in /usr/local/lib/python3.10/dist-packages (1.6.5)\n",
            "Requirement already satisfied: argcomplete~=1.10.0 in /usr/local/lib/python3.10/dist-packages (from textract) (1.10.3)\n",
            "Requirement already satisfied: beautifulsoup4~=4.8.0 in /usr/local/lib/python3.10/dist-packages (from textract) (4.8.2)\n",
            "Requirement already satisfied: chardet==3.* in /usr/local/lib/python3.10/dist-packages (from textract) (3.0.4)\n",
            "Requirement already satisfied: docx2txt~=0.8 in /usr/local/lib/python3.10/dist-packages (from textract) (0.8)\n",
            "Requirement already satisfied: extract-msg<=0.29.* in /usr/local/lib/python3.10/dist-packages (from textract) (0.28.7)\n",
            "Requirement already satisfied: pdfminer.six==20191110 in /usr/local/lib/python3.10/dist-packages (from textract) (20191110)\n",
            "Requirement already satisfied: python-pptx~=0.6.18 in /usr/local/lib/python3.10/dist-packages (from textract) (0.6.21)\n",
            "Requirement already satisfied: six~=1.12.0 in /usr/local/lib/python3.10/dist-packages (from textract) (1.12.0)\n",
            "Requirement already satisfied: SpeechRecognition~=3.8.1 in /usr/local/lib/python3.10/dist-packages (from textract) (3.8.1)\n",
            "Requirement already satisfied: xlrd~=1.2.0 in /usr/local/lib/python3.10/dist-packages (from textract) (1.2.0)\n",
            "Requirement already satisfied: pycryptodome in /usr/local/lib/python3.10/dist-packages (from pdfminer.six==20191110->textract) (3.18.0)\n",
            "Requirement already satisfied: sortedcontainers in /usr/local/lib/python3.10/dist-packages (from pdfminer.six==20191110->textract) (2.4.0)\n",
            "Requirement already satisfied: soupsieve>=1.2 in /usr/local/lib/python3.10/dist-packages (from beautifulsoup4~=4.8.0->textract) (2.4.1)\n",
            "Requirement already satisfied: imapclient==2.1.0 in /usr/local/lib/python3.10/dist-packages (from extract-msg<=0.29.*->textract) (2.1.0)\n",
            "Requirement already satisfied: olefile>=0.46 in /usr/local/lib/python3.10/dist-packages (from extract-msg<=0.29.*->textract) (0.46)\n",
            "Requirement already satisfied: tzlocal>=2.1 in /usr/local/lib/python3.10/dist-packages (from extract-msg<=0.29.*->textract) (5.0.1)\n",
            "Requirement already satisfied: compressed-rtf>=1.0.6 in /usr/local/lib/python3.10/dist-packages (from extract-msg<=0.29.*->textract) (1.0.6)\n",
            "Requirement already satisfied: ebcdic>=1.1.1 in /usr/local/lib/python3.10/dist-packages (from extract-msg<=0.29.*->textract) (1.1.1)\n",
            "Requirement already satisfied: lxml>=3.1.0 in /usr/local/lib/python3.10/dist-packages (from python-pptx~=0.6.18->textract) (4.9.3)\n",
            "Requirement already satisfied: Pillow>=3.3.2 in /usr/local/lib/python3.10/dist-packages (from python-pptx~=0.6.18->textract) (8.4.0)\n",
            "Requirement already satisfied: XlsxWriter>=0.5.7 in /usr/local/lib/python3.10/dist-packages (from python-pptx~=0.6.18->textract) (3.1.2)\n",
            "Requirement already satisfied: pytesseract in /usr/local/lib/python3.10/dist-packages (0.3.10)\n",
            "Requirement already satisfied: packaging>=21.3 in /usr/local/lib/python3.10/dist-packages (from pytesseract) (23.1)\n",
            "Requirement already satisfied: Pillow>=8.0.0 in /usr/local/lib/python3.10/dist-packages (from pytesseract) (8.4.0)\n",
            "Reading package lists... Done\n",
            "Building dependency tree       \n",
            "Reading state information... Done\n",
            "tesseract-ocr is already the newest version (4.1.1-2build2).\n",
            "0 upgraded, 0 newly installed, 0 to remove and 15 not upgraded.\n",
            "Reading package lists... Done\n",
            "Building dependency tree       \n",
            "Reading state information... Done\n",
            "libtesseract-dev is already the newest version (4.1.1-2build2).\n",
            "0 upgraded, 0 newly installed, 0 to remove and 15 not upgraded.\n",
            "Requirement already satisfied: pytesseract in /usr/local/lib/python3.10/dist-packages (0.3.10)\n",
            "Requirement already satisfied: packaging>=21.3 in /usr/local/lib/python3.10/dist-packages (from pytesseract) (23.1)\n",
            "Requirement already satisfied: Pillow>=8.0.0 in /usr/local/lib/python3.10/dist-packages (from pytesseract) (8.4.0)\n",
            "Requirement already satisfied: textract in /usr/local/lib/python3.10/dist-packages (1.6.5)\n",
            "Requirement already satisfied: argcomplete~=1.10.0 in /usr/local/lib/python3.10/dist-packages (from textract) (1.10.3)\n",
            "Requirement already satisfied: beautifulsoup4~=4.8.0 in /usr/local/lib/python3.10/dist-packages (from textract) (4.8.2)\n",
            "Requirement already satisfied: chardet==3.* in /usr/local/lib/python3.10/dist-packages (from textract) (3.0.4)\n",
            "Requirement already satisfied: docx2txt~=0.8 in /usr/local/lib/python3.10/dist-packages (from textract) (0.8)\n",
            "Requirement already satisfied: extract-msg<=0.29.* in /usr/local/lib/python3.10/dist-packages (from textract) (0.28.7)\n",
            "Requirement already satisfied: pdfminer.six==20191110 in /usr/local/lib/python3.10/dist-packages (from textract) (20191110)\n",
            "Requirement already satisfied: python-pptx~=0.6.18 in /usr/local/lib/python3.10/dist-packages (from textract) (0.6.21)\n",
            "Requirement already satisfied: six~=1.12.0 in /usr/local/lib/python3.10/dist-packages (from textract) (1.12.0)\n",
            "Requirement already satisfied: SpeechRecognition~=3.8.1 in /usr/local/lib/python3.10/dist-packages (from textract) (3.8.1)\n",
            "Requirement already satisfied: xlrd~=1.2.0 in /usr/local/lib/python3.10/dist-packages (from textract) (1.2.0)\n",
            "Requirement already satisfied: pycryptodome in /usr/local/lib/python3.10/dist-packages (from pdfminer.six==20191110->textract) (3.18.0)\n",
            "Requirement already satisfied: sortedcontainers in /usr/local/lib/python3.10/dist-packages (from pdfminer.six==20191110->textract) (2.4.0)\n",
            "Requirement already satisfied: soupsieve>=1.2 in /usr/local/lib/python3.10/dist-packages (from beautifulsoup4~=4.8.0->textract) (2.4.1)\n",
            "Requirement already satisfied: imapclient==2.1.0 in /usr/local/lib/python3.10/dist-packages (from extract-msg<=0.29.*->textract) (2.1.0)\n",
            "Requirement already satisfied: olefile>=0.46 in /usr/local/lib/python3.10/dist-packages (from extract-msg<=0.29.*->textract) (0.46)\n",
            "Requirement already satisfied: tzlocal>=2.1 in /usr/local/lib/python3.10/dist-packages (from extract-msg<=0.29.*->textract) (5.0.1)\n",
            "Requirement already satisfied: compressed-rtf>=1.0.6 in /usr/local/lib/python3.10/dist-packages (from extract-msg<=0.29.*->textract) (1.0.6)\n",
            "Requirement already satisfied: ebcdic>=1.1.1 in /usr/local/lib/python3.10/dist-packages (from extract-msg<=0.29.*->textract) (1.1.1)\n",
            "Requirement already satisfied: lxml>=3.1.0 in /usr/local/lib/python3.10/dist-packages (from python-pptx~=0.6.18->textract) (4.9.3)\n",
            "Requirement already satisfied: Pillow>=3.3.2 in /usr/local/lib/python3.10/dist-packages (from python-pptx~=0.6.18->textract) (8.4.0)\n",
            "Requirement already satisfied: XlsxWriter>=0.5.7 in /usr/local/lib/python3.10/dist-packages (from python-pptx~=0.6.18->textract) (3.1.2)\n",
            "Requirement already satisfied: pdf2image in /usr/local/lib/python3.10/dist-packages (1.16.3)\n",
            "Requirement already satisfied: pillow in /usr/local/lib/python3.10/dist-packages (from pdf2image) (8.4.0)\n",
            "Reading package lists... Done\n",
            "Building dependency tree       \n",
            "Reading state information... Done\n",
            "poppler-utils is already the newest version (0.86.1-0ubuntu1.1).\n",
            "0 upgraded, 0 newly installed, 0 to remove and 15 not upgraded.\n"
          ]
        }
      ],
      "source": [
        "!pip install PyPDF2  # Install PyPDF2 library for working with PDF files\n",
        "!pip install textract  # Install textract library for extracting text from various file formats\n",
        "!pip install pytesseract  # Install pytesseract library for optical character recognition (OCR)\n",
        "!apt-get install tesseract-ocr  # Install Tesseract OCR engine\n",
        "!apt-get install libtesseract-dev  # Install Tesseract development libraries\n",
        "!pip install pytesseract  # Install pytesseract Python wrapper for Tesseract OCR\n",
        "!pip install textract  # Install textract library for text extraction from various file types\n",
        "!pip install pdf2image  # Install pdf2image library for converting PDFs to images\n",
        "!apt-get install poppler-utils  # Install poppler-utils for working with PDFs and extracting text"
      ]
    },
    {
      "cell_type": "markdown",
      "source": [
        "#2\n",
        "##Import the required libraries"
      ],
      "metadata": {
        "id": "lfpUYL8pJkjZ"
      }
    },
    {
      "cell_type": "code",
      "source": [
        "from PyPDF2 import PdfReader  # Import PdfReader class from PyPDF2 library for reading PDF files\n",
        "import pytesseract  # Import pytesseract library for OCR (text extraction from images)\n",
        "from PIL import Image  # Import Image class from Pillow library for image manipulation\n",
        "import textract  # Import textract library for text extraction from various file formats"
      ],
      "metadata": {
        "id": "GS2dzYJ7wix4"
      },
      "execution_count": 9,
      "outputs": []
    },
    {
      "cell_type": "markdown",
      "source": [
        "#3\n",
        "##Text extraction from Pdf"
      ],
      "metadata": {
        "id": "xIjZ6e5FJz3x"
      }
    },
    {
      "cell_type": "code",
      "source": [
        "def extract_text_from_pdf(pdf_path):\n",
        "    text = \"\"  # Initialize an empty string to store the extracted text\n",
        "    with open(pdf_path, 'rb') as file:  # Open the PDF file in read-binary mode\n",
        "        reader = PdfReader(file)  # Create a PDF reader object\n",
        "        for page in reader.pages:  # Iterate through each page in the PDF\n",
        "            text += page.extract_text()  # Extract the text from the current page and append it to the 'text' variable\n",
        "    return text  # Return the extracted text\n"
      ],
      "metadata": {
        "id": "3S4JrVSZwlB_"
      },
      "execution_count": 10,
      "outputs": []
    },
    {
      "cell_type": "markdown",
      "source": [
        "#4\n",
        "##Text extraction from Image"
      ],
      "metadata": {
        "id": "Vg_sIshwKI7o"
      }
    },
    {
      "cell_type": "code",
      "source": [
        "def extract_text_from_image(image_path):\n",
        "    image = Image.open(image_path)  # Open the image file using PIL's Image class\n",
        "    text = pytesseract.image_to_string(image)  # Use pytesseract to extract text from the image\n",
        "    return text  # Return the extracted text\n"
      ],
      "metadata": {
        "id": "n-yslFs3wr-s"
      },
      "execution_count": 11,
      "outputs": []
    },
    {
      "cell_type": "markdown",
      "source": [
        "#5\n",
        "##Text extraction from any file type."
      ],
      "metadata": {
        "id": "80oqkG-zL0uu"
      }
    },
    {
      "cell_type": "code",
      "source": [
        "def extract_text_from_other(file_path):\n",
        "    text = textract.process(file_path)  # Use textract to extract text from the file\n",
        "    return text.decode('utf-8')  # Decode the extracted text from bytes to UTF-8 string\n"
      ],
      "metadata": {
        "id": "rrJTj2OpwuUI"
      },
      "execution_count": 12,
      "outputs": []
    },
    {
      "cell_type": "markdown",
      "source": [
        "#6\n",
        "##Main function redirection to above function based upon file type"
      ],
      "metadata": {
        "id": "oBFUg_5_MSeh"
      }
    },
    {
      "cell_type": "code",
      "source": [
        "def extract_text_from_file(file_path):\n",
        "    if file_path.lower().endswith('.pdf'):  # If the file is a PDF\n",
        "        return extract_text_from_pdf(file_path)  # Extract text from the PDF file\n",
        "    elif file_path.lower().endswith(('.jpg', '.jpeg', '.png', '.gif', '.webp')):  # If the file is an image\n",
        "        return extract_text_from_image(file_path)  # Extract text from the image file\n",
        "    else:  # For other file types such as csv, word document etc\n",
        "        return extract_text_from_other(file_path)  # Extract text using other methods"
      ],
      "metadata": {
        "id": "u97-LaThwwHx"
      },
      "execution_count": 13,
      "outputs": []
    },
    {
      "cell_type": "markdown",
      "source": [
        "#7\n",
        "##Upload file path\n",
        "##Send file to above main function\n",
        "##And wait for output\n"
      ],
      "metadata": {
        "id": "g1OYKBkgMhmP"
      }
    },
    {
      "cell_type": "code",
      "source": [
        "file_path = '/content/merged_data (1).csv'\n",
        "extracted_text = extract_text_from_file(file_path)\n",
        "print(extracted_text)"
      ],
      "metadata": {
        "colab": {
          "base_uri": "https://localhost:8080/"
        },
        "id": "vICSlXcjwyTZ",
        "outputId": "e2b5b3f8-f639-4485-c6c8-32382f68e60e"
      },
      "execution_count": 14,
      "outputs": [
        {
          "output_type": "stream",
          "name": "stdout",
          "text": [
            "Name\tRAM\tROM\tSold Quantity\tRating\n",
            "POCO M4 5G\t4\t64\t79482\t4.2\n",
            "APPLE iPhone 13\t0\t128\t227342\t4.7\n",
            "APPLE iPhone 13\t0\t128\t227342\t4.7\n",
            "APPLE iPhone 13\t0\t128\t227342\t4.7\n",
            "POCO M4 5G\t4\t64\t79482\t4.2\n",
            "vivo T2 5G\t8\t128\t4978\t4.4\n",
            "APPLE iPhone 13\t0\t128\t227342\t4.7\n",
            "SAMSUNG Galaxy F14 5G\t6\t128\t17115\t4.2\n",
            "Infinix Note 12 Pro 5G\t8\t128\t28073\t4.1\n",
            "Infinix Note 12 Pro 5G\t8\t128\t28073\t4.1\n",
            "SAMSUNG Galaxy F23 5G\t6\t128\t195602\t4.3\n",
            "POCO X5 Pro 5G\t8\t256\t8229\t4.3\n",
            "POCO M4 5G\t4\t64\t79482\t4.2\n",
            "realme 10 Pro 5G\t8\t128\t19487\t4.3\n",
            "realme 10 Pro 5G\t6\t128\t26570\t4.3\n",
            "realme GT 2\t8\t128\t10142\t4.3\n",
            "realme GT 2\t8\t128\t10142\t4.3\n",
            "Google Pixel 6a\t6\t128\t47692\t4.3\n",
            "Google Pixel 6a\t6\t128\t47692\t4.3\n",
            "realme 10 Pro 5G\t6\t128\t26570\t4.3\n",
            "realme 10 Pro 5G\t8\t128\t19487\t4.3\n",
            "realme 10 Pro 5G\t6\t128\t26570\t4.3\n",
            "realme 10 Pro 5G\t8\t128\t19487\t4.3\n",
            "SAMSUNG Galaxy F23 5G\t6\t128\t195602\t4.3\n"
          ]
        }
      ]
    },
    {
      "cell_type": "code",
      "source": [
        "extracted_text"
      ],
      "metadata": {
        "colab": {
          "base_uri": "https://localhost:8080/",
          "height": 140
        },
        "id": "dl7GrUoZw0uS",
        "outputId": "d4e22f69-7eb9-4f00-85d5-f6ce29766fb6"
      },
      "execution_count": 15,
      "outputs": [
        {
          "output_type": "execute_result",
          "data": {
            "text/plain": [
              "'Name\\tRAM\\tROM\\tSold Quantity\\tRating\\nPOCO M4 5G\\t4\\t64\\t79482\\t4.2\\nAPPLE iPhone 13\\t0\\t128\\t227342\\t4.7\\nAPPLE iPhone 13\\t0\\t128\\t227342\\t4.7\\nAPPLE iPhone 13\\t0\\t128\\t227342\\t4.7\\nPOCO M4 5G\\t4\\t64\\t79482\\t4.2\\nvivo T2 5G\\t8\\t128\\t4978\\t4.4\\nAPPLE iPhone 13\\t0\\t128\\t227342\\t4.7\\nSAMSUNG Galaxy F14 5G\\t6\\t128\\t17115\\t4.2\\nInfinix Note 12 Pro 5G\\t8\\t128\\t28073\\t4.1\\nInfinix Note 12 Pro 5G\\t8\\t128\\t28073\\t4.1\\nSAMSUNG Galaxy F23 5G\\t6\\t128\\t195602\\t4.3\\nPOCO X5 Pro 5G\\t8\\t256\\t8229\\t4.3\\nPOCO M4 5G\\t4\\t64\\t79482\\t4.2\\nrealme 10 Pro 5G\\t8\\t128\\t19487\\t4.3\\nrealme 10 Pro 5G\\t6\\t128\\t26570\\t4.3\\nrealme GT 2\\t8\\t128\\t10142\\t4.3\\nrealme GT 2\\t8\\t128\\t10142\\t4.3\\nGoogle Pixel 6a\\t6\\t128\\t47692\\t4.3\\nGoogle Pixel 6a\\t6\\t128\\t47692\\t4.3\\nrealme 10 Pro 5G\\t6\\t128\\t26570\\t4.3\\nrealme 10 Pro 5G\\t8\\t128\\t19487\\t4.3\\nrealme 10 Pro 5G\\t6\\t128\\t26570\\t4.3\\nrealme 10 Pro 5G\\t8\\t128\\t19487\\t4.3\\nSAMSUNG Galaxy F23 5G\\t6\\t128\\t195602\\t4.3'"
            ],
            "application/vnd.google.colaboratory.intrinsic+json": {
              "type": "string"
            }
          },
          "metadata": {},
          "execution_count": 15
        }
      ]
    },
    {
      "cell_type": "markdown",
      "source": [
        "#8\n",
        "##Replace \\n and \\t with space"
      ],
      "metadata": {
        "id": "UCjMqPlXUQxC"
      }
    },
    {
      "cell_type": "code",
      "source": [
        "text = extracted_text.replace('\\n', ' ').replace('\\t', ' ')\n",
        "print(text)"
      ],
      "metadata": {
        "colab": {
          "base_uri": "https://localhost:8080/"
        },
        "id": "G-UGYv23w849",
        "outputId": "f4470e89-0148-4df2-a929-279a57165e33"
      },
      "execution_count": 16,
      "outputs": [
        {
          "output_type": "stream",
          "name": "stdout",
          "text": [
            "Name RAM ROM Sold Quantity Rating POCO M4 5G 4 64 79482 4.2 APPLE iPhone 13 0 128 227342 4.7 APPLE iPhone 13 0 128 227342 4.7 APPLE iPhone 13 0 128 227342 4.7 POCO M4 5G 4 64 79482 4.2 vivo T2 5G 8 128 4978 4.4 APPLE iPhone 13 0 128 227342 4.7 SAMSUNG Galaxy F14 5G 6 128 17115 4.2 Infinix Note 12 Pro 5G 8 128 28073 4.1 Infinix Note 12 Pro 5G 8 128 28073 4.1 SAMSUNG Galaxy F23 5G 6 128 195602 4.3 POCO X5 Pro 5G 8 256 8229 4.3 POCO M4 5G 4 64 79482 4.2 realme 10 Pro 5G 8 128 19487 4.3 realme 10 Pro 5G 6 128 26570 4.3 realme GT 2 8 128 10142 4.3 realme GT 2 8 128 10142 4.3 Google Pixel 6a 6 128 47692 4.3 Google Pixel 6a 6 128 47692 4.3 realme 10 Pro 5G 6 128 26570 4.3 realme 10 Pro 5G 8 128 19487 4.3 realme 10 Pro 5G 6 128 26570 4.3 realme 10 Pro 5G 8 128 19487 4.3 SAMSUNG Galaxy F23 5G 6 128 195602 4.3\n"
          ]
        }
      ]
    },
    {
      "cell_type": "code",
      "source": [],
      "metadata": {
        "id": "JfG-0HCrw-g4"
      },
      "execution_count": 16,
      "outputs": []
    }
  ]
}